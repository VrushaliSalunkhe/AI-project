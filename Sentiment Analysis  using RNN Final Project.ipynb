{
 "cells": [
  {
   "cell_type": "markdown",
   "id": "3df0bacc",
   "metadata": {},
   "source": [
    "# Training Dataset"
   ]
  },
  {
   "cell_type": "code",
   "execution_count": null,
   "id": "c033f794",
   "metadata": {},
   "outputs": [],
   "source": [
    "#Import Libraries"
   ]
  },
  {
   "cell_type": "code",
   "execution_count": 53,
   "id": "74d31aec",
   "metadata": {},
   "outputs": [],
   "source": [
    "from keras.preprocessing.text import Tokenizer\n",
    "from keras.utils import pad_sequences\n",
    "from keras import Sequential\n",
    "from keras.utils import to_categorical\n",
    "from keras.layers import Dense,SimpleRNN,Embedding,Flatten\n",
    "import numpy as np\n",
    "import pandas as pd\n",
    "import warnings\n",
    "warnings.filterwarnings(\"ignore\")"
   ]
  },
  {
   "cell_type": "code",
   "execution_count": null,
   "id": "596fb70b",
   "metadata": {},
   "outputs": [],
   "source": [
    "# Read Data"
   ]
  },
  {
   "cell_type": "code",
   "execution_count": 2,
   "id": "744b628c",
   "metadata": {},
   "outputs": [],
   "source": [
    "data=pd.read_csv(r\"C:\\Users\\Dell\\Desktop\\AI\\train.csv\",encoding=\"latin\")"
   ]
  },
  {
   "cell_type": "code",
   "execution_count": null,
   "id": "a1f6a800",
   "metadata": {},
   "outputs": [],
   "source": [
    "# Copy the Data"
   ]
  },
  {
   "cell_type": "code",
   "execution_count": 3,
   "id": "73d2f5ad",
   "metadata": {},
   "outputs": [],
   "source": [
    "df=data.copy()"
   ]
  },
  {
   "cell_type": "code",
   "execution_count": null,
   "id": "c30190b8",
   "metadata": {},
   "outputs": [],
   "source": [
    "#cheaking headings column name of dataset"
   ]
  },
  {
   "cell_type": "code",
   "execution_count": 4,
   "id": "af0cf562",
   "metadata": {},
   "outputs": [
    {
     "data": {
      "text/html": [
       "<div>\n",
       "<style scoped>\n",
       "    .dataframe tbody tr th:only-of-type {\n",
       "        vertical-align: middle;\n",
       "    }\n",
       "\n",
       "    .dataframe tbody tr th {\n",
       "        vertical-align: top;\n",
       "    }\n",
       "\n",
       "    .dataframe thead th {\n",
       "        text-align: right;\n",
       "    }\n",
       "</style>\n",
       "<table border=\"1\" class=\"dataframe\">\n",
       "  <thead>\n",
       "    <tr style=\"text-align: right;\">\n",
       "      <th></th>\n",
       "      <th>textID</th>\n",
       "      <th>text</th>\n",
       "      <th>selected_text</th>\n",
       "      <th>sentiment</th>\n",
       "      <th>Time of Tweet</th>\n",
       "      <th>Age of User</th>\n",
       "      <th>Country</th>\n",
       "      <th>Population -2020</th>\n",
       "      <th>Land Area (Km²)</th>\n",
       "      <th>Density (P/Km²)</th>\n",
       "    </tr>\n",
       "  </thead>\n",
       "  <tbody>\n",
       "    <tr>\n",
       "      <th>0</th>\n",
       "      <td>cb774db0d1</td>\n",
       "      <td>I`d have responded, if I were going</td>\n",
       "      <td>I`d have responded, if I were going</td>\n",
       "      <td>neutral</td>\n",
       "      <td>morning</td>\n",
       "      <td>0-20</td>\n",
       "      <td>Afghanistan</td>\n",
       "      <td>38928346</td>\n",
       "      <td>652860.0</td>\n",
       "      <td>60</td>\n",
       "    </tr>\n",
       "    <tr>\n",
       "      <th>1</th>\n",
       "      <td>549e992a42</td>\n",
       "      <td>Sooo SAD I will miss you here in San Diego!!!</td>\n",
       "      <td>Sooo SAD</td>\n",
       "      <td>negative</td>\n",
       "      <td>noon</td>\n",
       "      <td>21-30</td>\n",
       "      <td>Albania</td>\n",
       "      <td>2877797</td>\n",
       "      <td>27400.0</td>\n",
       "      <td>105</td>\n",
       "    </tr>\n",
       "    <tr>\n",
       "      <th>2</th>\n",
       "      <td>088c60f138</td>\n",
       "      <td>my boss is bullying me...</td>\n",
       "      <td>bullying me</td>\n",
       "      <td>negative</td>\n",
       "      <td>night</td>\n",
       "      <td>31-45</td>\n",
       "      <td>Algeria</td>\n",
       "      <td>43851044</td>\n",
       "      <td>2381740.0</td>\n",
       "      <td>18</td>\n",
       "    </tr>\n",
       "  </tbody>\n",
       "</table>\n",
       "</div>"
      ],
      "text/plain": [
       "       textID                                            text  \\\n",
       "0  cb774db0d1             I`d have responded, if I were going   \n",
       "1  549e992a42   Sooo SAD I will miss you here in San Diego!!!   \n",
       "2  088c60f138                       my boss is bullying me...   \n",
       "\n",
       "                         selected_text sentiment Time of Tweet Age of User  \\\n",
       "0  I`d have responded, if I were going   neutral       morning        0-20   \n",
       "1                             Sooo SAD  negative          noon       21-30   \n",
       "2                          bullying me  negative         night       31-45   \n",
       "\n",
       "       Country  Population -2020  Land Area (Km²)  Density (P/Km²)  \n",
       "0  Afghanistan          38928346         652860.0               60  \n",
       "1      Albania           2877797          27400.0              105  \n",
       "2      Algeria          43851044        2381740.0               18  "
      ]
     },
     "execution_count": 4,
     "metadata": {},
     "output_type": "execute_result"
    }
   ],
   "source": [
    "df.head(3)"
   ]
  },
  {
   "cell_type": "code",
   "execution_count": null,
   "id": "cecd865e",
   "metadata": {},
   "outputs": [],
   "source": [
    "#checking all the column values and rows values of a particular column."
   ]
  },
  {
   "cell_type": "code",
   "execution_count": 5,
   "id": "8d90edec",
   "metadata": {},
   "outputs": [
    {
     "name": "stdout",
     "output_type": "stream",
     "text": [
      "<class 'pandas.core.frame.DataFrame'>\n",
      "RangeIndex: 27481 entries, 0 to 27480\n",
      "Data columns (total 10 columns):\n",
      " #   Column            Non-Null Count  Dtype  \n",
      "---  ------            --------------  -----  \n",
      " 0   textID            27481 non-null  object \n",
      " 1   text              27480 non-null  object \n",
      " 2   selected_text     27480 non-null  object \n",
      " 3   sentiment         27481 non-null  object \n",
      " 4   Time of Tweet     27481 non-null  object \n",
      " 5   Age of User       27481 non-null  object \n",
      " 6   Country           27481 non-null  object \n",
      " 7   Population -2020  27481 non-null  int64  \n",
      " 8   Land Area (Km²)   27481 non-null  float64\n",
      " 9   Density (P/Km²)   27481 non-null  int64  \n",
      "dtypes: float64(1), int64(2), object(7)\n",
      "memory usage: 2.1+ MB\n"
     ]
    }
   ],
   "source": [
    "df.info()"
   ]
  },
  {
   "cell_type": "code",
   "execution_count": null,
   "id": "44328b72",
   "metadata": {},
   "outputs": [],
   "source": [
    "#to replace missing (NaN) values in the \"text\" column of dataset with empty string('')"
   ]
  },
  {
   "cell_type": "code",
   "execution_count": 6,
   "id": "0942a1e8",
   "metadata": {},
   "outputs": [],
   "source": [
    "df['text'].fillna('',inplace=True)"
   ]
  },
  {
   "cell_type": "code",
   "execution_count": null,
   "id": "c33e9d9f",
   "metadata": {},
   "outputs": [],
   "source": [
    "#after fill missing values check all column values are same "
   ]
  },
  {
   "cell_type": "code",
   "execution_count": 7,
   "id": "9df3cd66",
   "metadata": {},
   "outputs": [
    {
     "name": "stdout",
     "output_type": "stream",
     "text": [
      "<class 'pandas.core.frame.DataFrame'>\n",
      "RangeIndex: 27481 entries, 0 to 27480\n",
      "Data columns (total 10 columns):\n",
      " #   Column            Non-Null Count  Dtype  \n",
      "---  ------            --------------  -----  \n",
      " 0   textID            27481 non-null  object \n",
      " 1   text              27481 non-null  object \n",
      " 2   selected_text     27480 non-null  object \n",
      " 3   sentiment         27481 non-null  object \n",
      " 4   Time of Tweet     27481 non-null  object \n",
      " 5   Age of User       27481 non-null  object \n",
      " 6   Country           27481 non-null  object \n",
      " 7   Population -2020  27481 non-null  int64  \n",
      " 8   Land Area (Km²)   27481 non-null  float64\n",
      " 9   Density (P/Km²)   27481 non-null  int64  \n",
      "dtypes: float64(1), int64(2), object(7)\n",
      "memory usage: 2.1+ MB\n"
     ]
    }
   ],
   "source": [
    "df.info()"
   ]
  },
  {
   "cell_type": "code",
   "execution_count": null,
   "id": "eec03edc",
   "metadata": {},
   "outputs": [],
   "source": [
    "#find shape of data to know the how many columns and rows in dataset."
   ]
  },
  {
   "cell_type": "code",
   "execution_count": 8,
   "id": "94565b13",
   "metadata": {},
   "outputs": [
    {
     "data": {
      "text/plain": [
       "(27481, 10)"
      ]
     },
     "execution_count": 8,
     "metadata": {},
     "output_type": "execute_result"
    }
   ],
   "source": [
    "df.shape"
   ]
  },
  {
   "cell_type": "code",
   "execution_count": null,
   "id": "a58ac62f",
   "metadata": {},
   "outputs": [],
   "source": [
    "# select only the \"text\" and \"sentiment\" columns from the dataset"
   ]
  },
  {
   "cell_type": "code",
   "execution_count": 9,
   "id": "14a99846",
   "metadata": {},
   "outputs": [],
   "source": [
    "df=df[['text','sentiment']]"
   ]
  },
  {
   "cell_type": "code",
   "execution_count": null,
   "id": "ae674ac9",
   "metadata": {},
   "outputs": [],
   "source": [
    "# it is used to retrive the unique values present in the \"sentiment\" column of the dataset"
   ]
  },
  {
   "cell_type": "code",
   "execution_count": 10,
   "id": "2be96637",
   "metadata": {},
   "outputs": [
    {
     "data": {
      "text/plain": [
       "array(['neutral', 'negative', 'positive'], dtype=object)"
      ]
     },
     "execution_count": 10,
     "metadata": {},
     "output_type": "execute_result"
    }
   ],
   "source": [
    "df[\"sentiment\"].unique()"
   ]
  },
  {
   "cell_type": "code",
   "execution_count": null,
   "id": "06610f7a",
   "metadata": {},
   "outputs": [],
   "source": [
    "#This \"func\" function takes one argument, sentiment, which is a string indicating a sentiment. \n",
    "#It returns a numerical value based on the sentiment provided. \n",
    "#the function operate that: If the sentiment is 'positive', the function returns 0.\n",
    "                           #If the sentiment is 'negative', the function returns 1.\n",
    "                           #For any other sentiment (neither 'positive' nor 'negative'), the function returns 2."
   ]
  },
  {
   "cell_type": "code",
   "execution_count": 11,
   "id": "73994c75",
   "metadata": {},
   "outputs": [],
   "source": [
    "def func(sentiment):\n",
    "    if sentiment =='positive':\n",
    "        return 0;\n",
    "    elif sentiment =='negative':\n",
    "        return 1;\n",
    "    else:\n",
    "        return 2;"
   ]
  },
  {
   "cell_type": "code",
   "execution_count": null,
   "id": "0181b272",
   "metadata": {},
   "outputs": [],
   "source": [
    "#after applying the \"func\" function to the 'sentiment' column. Assuming df is a Dataset and 'sentiment' is one of its columns \n",
    "#the line df['sentiment'] = df['sentiment'].apply(func) transforms the values in the 'sentiment' column according to the logic\n",
    "#defined in the \"func\" function."
   ]
  },
  {
   "cell_type": "code",
   "execution_count": 12,
   "id": "2e56fd04",
   "metadata": {},
   "outputs": [],
   "source": [
    "df['sentiment'] = df['sentiment'].apply(func)"
   ]
  },
  {
   "cell_type": "code",
   "execution_count": null,
   "id": "2f165a32",
   "metadata": {},
   "outputs": [],
   "source": [
    "#to convert text data from a Dataset into numpy arrays x_train and y_train for training a model, where x_train contains the \n",
    "#text data and y_train contains the corresponding sentiment labels."
   ]
  },
  {
   "cell_type": "code",
   "execution_count": 13,
   "id": "fb6bd9ff",
   "metadata": {},
   "outputs": [],
   "source": [
    "x_train = np.array(df['text'].tolist())\n",
    "y_train = np.array(df['sentiment'].tolist())"
   ]
  },
  {
   "cell_type": "code",
   "execution_count": null,
   "id": "b8706d5e",
   "metadata": {},
   "outputs": [],
   "source": [
    "#x_train which is a numpy array containing the text data after being extracted from the Dataset. "
   ]
  },
  {
   "cell_type": "code",
   "execution_count": 14,
   "id": "72660678",
   "metadata": {},
   "outputs": [
    {
     "data": {
      "text/plain": [
       "array([' I`d have responded, if I were going',\n",
       "       ' Sooo SAD I will miss you here in San Diego!!!',\n",
       "       'my boss is bullying me...', ...,\n",
       "       ' Yay good for both of you. Enjoy the break - you probably need it after such hectic weekend  Take care hun xxxx',\n",
       "       ' But it was worth it  ****.',\n",
       "       '   All this flirting going on - The ATG smiles. Yay.  ((hugs))'],\n",
       "      dtype='<U159')"
      ]
     },
     "execution_count": 14,
     "metadata": {},
     "output_type": "execute_result"
    }
   ],
   "source": [
    "x_train"
   ]
  },
  {
   "cell_type": "code",
   "execution_count": null,
   "id": "2675aa78",
   "metadata": {},
   "outputs": [],
   "source": [
    "#y_train numpy array. This array contains the sentiment labels extracted from the Dataset."
   ]
  },
  {
   "cell_type": "code",
   "execution_count": 15,
   "id": "a451fe97",
   "metadata": {},
   "outputs": [
    {
     "data": {
      "text/plain": [
       "array([2, 1, 1, ..., 0, 0, 2])"
      ]
     },
     "execution_count": 15,
     "metadata": {},
     "output_type": "execute_result"
    }
   ],
   "source": [
    "y_train"
   ]
  },
  {
   "cell_type": "code",
   "execution_count": null,
   "id": "cf67691c",
   "metadata": {},
   "outputs": [],
   "source": [
    "#to_categorical function which is commonly used in machine learning tasks for one-hot encoding categorical variables. \n",
    "#This function is typically provided by libraries such as Keras or TensorFlow.\n",
    "\n",
    "#to_categorical function will convert each label into a vector of length 3, where the index corresponding to the label is \n",
    "#set to 1 and all other indices are set to 0."
   ]
  },
  {
   "cell_type": "code",
   "execution_count": 16,
   "id": "1e677f0d",
   "metadata": {},
   "outputs": [],
   "source": [
    "y_train = to_categorical(y_train, 3)"
   ]
  },
  {
   "cell_type": "code",
   "execution_count": null,
   "id": "c4b4f697",
   "metadata": {},
   "outputs": [],
   "source": [
    "#After using one-hot encoding using to_categorical function, the y_train array would contain the one-hot encoded\n",
    "#representations of the sentiment labels. "
   ]
  },
  {
   "cell_type": "code",
   "execution_count": 17,
   "id": "f49bca38",
   "metadata": {},
   "outputs": [
    {
     "data": {
      "text/plain": [
       "array([[0., 0., 1.],\n",
       "       [0., 1., 0.],\n",
       "       [0., 1., 0.],\n",
       "       ...,\n",
       "       [1., 0., 0.],\n",
       "       [1., 0., 0.],\n",
       "       [0., 0., 1.]], dtype=float32)"
      ]
     },
     "execution_count": 17,
     "metadata": {},
     "output_type": "execute_result"
    }
   ],
   "source": [
    "y_train"
   ]
  },
  {
   "cell_type": "code",
   "execution_count": null,
   "id": "5d90eb9d",
   "metadata": {},
   "outputs": [],
   "source": [
    "#This line imports the Tokenizer class from Keras and then initializes a Tokenizer object with the parameter num_words=20000\n",
    "\n",
    "#The num_words parameter specifies the maximum number of words to keep, based on word frequency."
   ]
  },
  {
   "cell_type": "code",
   "execution_count": 18,
   "id": "195b2ab9",
   "metadata": {},
   "outputs": [],
   "source": [
    "tokenizer = Tokenizer(num_words=20000)"
   ]
  },
  {
   "cell_type": "code",
   "execution_count": null,
   "id": "cc876adb",
   "metadata": {},
   "outputs": [],
   "source": [
    "#This line of code fits the Tokenizer to the text data x_train. It updates the internal vocabulary of the Tokenizer based on \n",
    "#the words present in the x_train data."
   ]
  },
  {
   "cell_type": "code",
   "execution_count": 19,
   "id": "5671d3f9",
   "metadata": {},
   "outputs": [],
   "source": [
    "tokenizer.fit_on_texts(x_train)"
   ]
  },
  {
   "cell_type": "code",
   "execution_count": null,
   "id": "de354220",
   "metadata": {},
   "outputs": [],
   "source": [
    "#This will give the number of unique words in text data that the tokenizer has observe."
   ]
  },
  {
   "cell_type": "code",
   "execution_count": 20,
   "id": "afccb06a",
   "metadata": {},
   "outputs": [
    {
     "data": {
      "text/plain": [
       "26598"
      ]
     },
     "execution_count": 20,
     "metadata": {},
     "output_type": "execute_result"
    }
   ],
   "source": [
    "len(tokenizer.word_index)"
   ]
  },
  {
   "cell_type": "code",
   "execution_count": null,
   "id": "5ef06802",
   "metadata": {},
   "outputs": [],
   "source": [
    "#to convert the text data in x_train into sequences of integers using the texts_to_sequences() method provided by the Tokenizer\n",
    "#object. This method replaces each word in the text data with its corresponding integer index from the word index built by the\n",
    "#Tokenizer."
   ]
  },
  {
   "cell_type": "code",
   "execution_count": 21,
   "id": "c63fc100",
   "metadata": {},
   "outputs": [],
   "source": [
    "x_train = tokenizer.texts_to_sequences(x_train)"
   ]
  },
  {
   "cell_type": "code",
   "execution_count": null,
   "id": "ee9dae13",
   "metadata": {},
   "outputs": [],
   "source": [
    "#The pad_sequences function is a utility provided by Keras for preprocessing sequence data."
   ]
  },
  {
   "cell_type": "code",
   "execution_count": 22,
   "id": "b7e23ab1",
   "metadata": {},
   "outputs": [],
   "source": [
    "from keras.utils import pad_sequences"
   ]
  },
  {
   "cell_type": "code",
   "execution_count": null,
   "id": "ae587519",
   "metadata": {},
   "outputs": [],
   "source": [
    "#to use the pad_sequences function to pad sequences in x_train to a maximum length of 35, with padding added at the end of\n",
    "#sequences ('post' padding)."
   ]
  },
  {
   "cell_type": "code",
   "execution_count": 23,
   "id": "253408f9",
   "metadata": {},
   "outputs": [],
   "source": [
    "x_train = pad_sequences(x_train, padding='post', maxlen=35)  # Set maxlen to 35"
   ]
  },
  {
   "cell_type": "code",
   "execution_count": null,
   "id": "0e493029",
   "metadata": {},
   "outputs": [],
   "source": [
    "#print the first sequence in x_train after padding."
   ]
  },
  {
   "cell_type": "code",
   "execution_count": 24,
   "id": "edebbec9",
   "metadata": {},
   "outputs": [
    {
     "data": {
      "text/plain": [
       "array([    1,   165,    19, 10456,    73,     1,   150,    48,     0,\n",
       "           0,     0,     0,     0,     0,     0,     0,     0,     0,\n",
       "           0,     0,     0,     0,     0,     0,     0,     0,     0,\n",
       "           0,     0,     0,     0,     0,     0,     0,     0])"
      ]
     },
     "execution_count": 24,
     "metadata": {},
     "output_type": "execute_result"
    }
   ],
   "source": [
    "x_train[0]"
   ]
  },
  {
   "cell_type": "code",
   "execution_count": null,
   "id": "05e8efd6",
   "metadata": {},
   "outputs": [],
   "source": [
    "#o get the shape of the x_train array after padding,  use the .shape"
   ]
  },
  {
   "cell_type": "code",
   "execution_count": 25,
   "id": "8a871f34",
   "metadata": {},
   "outputs": [
    {
     "data": {
      "text/plain": [
       "(27481, 35)"
      ]
     },
     "execution_count": 25,
     "metadata": {},
     "output_type": "execute_result"
    }
   ],
   "source": [
    "x_train.shape"
   ]
  },
  {
   "cell_type": "code",
   "execution_count": null,
   "id": "08b60a16",
   "metadata": {},
   "outputs": [],
   "source": [
    "#Embedding Layer (Embedding):\n",
    "\n",
    "#The Embedding layer is the first layer in the model.\n",
    "#input_dim=20000 specifies the size of the vocabulary the maximum integer index that can be used to represent words.\n",
    "#output_dim=5 specifies the dimensionality of the embedding space. Each word will be represented as a vector of length 5 in this\n",
    "#space.\n",
    "#input_length=35 specifies the length of input sequences each input sequence will be padded/truncated to have a length  \n",
    "# of 35 tokens.\n",
    "\n",
    "#SimpleRNN Layer (SimpleRNN):\n",
    "\n",
    "#The SimpleRNN layer with 32 units (or neurons) is added after the embedding layer.\n",
    "#return_sequences=False indicates that only the output of the last timestep will be returned by this RNN layer.\n",
    "#able for many classification tasks where we are only interested in the final output of the sequence.\n",
    "\n",
    "#Dense Output Layer (Dense):\n",
    "\n",
    "#The Dense layer with 3 units is added after the SimpleRNN layer.\n",
    "#activation='softmax' specifies the activation function for the output layer. Softmax activation is commonly used for \n",
    "#multi-class\n",
    "#classification tasks, as it produces a probability distribution over the classes."
   ]
  },
  {
   "cell_type": "code",
   "execution_count": 26,
   "id": "70d4eaae",
   "metadata": {},
   "outputs": [
    {
     "name": "stdout",
     "output_type": "stream",
     "text": [
      "WARNING:tensorflow:From C:\\Users\\Dell\\AppData\\Roaming\\Python\\Python311\\site-packages\\keras\\src\\backend.py:873: The name tf.get_default_graph is deprecated. Please use tf.compat.v1.get_default_graph instead.\n",
      "\n",
      "Model: \"sequential\"\n",
      "_________________________________________________________________\n",
      " Layer (type)                Output Shape              Param #   \n",
      "=================================================================\n",
      " embedding (Embedding)       (None, 35, 5)             100000    \n",
      "                                                                 \n",
      " simple_rnn (SimpleRNN)      (None, 32)                1216      \n",
      "                                                                 \n",
      " dense (Dense)               (None, 3)                 99        \n",
      "                                                                 \n",
      "=================================================================\n",
      "Total params: 101315 (395.76 KB)\n",
      "Trainable params: 101315 (395.76 KB)\n",
      "Non-trainable params: 0 (0.00 Byte)\n",
      "_________________________________________________________________\n"
     ]
    }
   ],
   "source": [
    "model = Sequential()\n",
    "model.add(Embedding(input_dim=20000, output_dim=5, input_length=35))\n",
    "model.add(SimpleRNN(32,return_sequences=False))\n",
    "model.add(Dense(3,activation='softmax'))\n",
    "model.summary()"
   ]
  },
  {
   "cell_type": "code",
   "execution_count": null,
   "id": "92c8cc87",
   "metadata": {},
   "outputs": [],
   "source": [
    "#This line of code compiles the model you've defined using Keras.\n",
    "\n",
    "#optimizer='adam': This specifies the optimizer to be used during training. In this case, it's Adam, which is a popular \n",
    "#optimization algorithm known for its efficiency and effectiveness in training deep neural networks.\n",
    "\n",
    "#loss='categorical_crossentropy': This specifies the loss function to be used during training. For multi-class classification \n",
    "#tasks with one-hot encoded labels, categorical crossentropy is commonly used.\n",
    "\n",
    "#metrics=['accuracy']: This specifies the evaluation metric(s) to be used during training and testing. \n",
    "\n",
    "#After compiling the model with these settings, it's ready to be trained on your data using the fit() method."
   ]
  },
  {
   "cell_type": "code",
   "execution_count": 27,
   "id": "1ba6ed34",
   "metadata": {},
   "outputs": [
    {
     "name": "stdout",
     "output_type": "stream",
     "text": [
      "WARNING:tensorflow:From C:\\Users\\Dell\\AppData\\Roaming\\Python\\Python311\\site-packages\\keras\\src\\optimizers\\__init__.py:309: The name tf.train.Optimizer is deprecated. Please use tf.compat.v1.train.Optimizer instead.\n",
      "\n"
     ]
    }
   ],
   "source": [
    "model.compile(optimizer='adam', loss='categorical_crossentropy', metrics=['accuracy'])"
   ]
  },
  {
   "cell_type": "code",
   "execution_count": null,
   "id": "1fd74545",
   "metadata": {},
   "outputs": [],
   "source": [
    "#x_train: This is the input data, consisting of padded sequences of integers representing text data.\n",
    "\n",
    "#y_train: This is the target data, which is the one-hot encoded labels corresponding to the sentiment of each input sequence.\n",
    "\n",
    "#epochs=20: This specifies the number of epochs for which the model will be trained."
   ]
  },
  {
   "cell_type": "code",
   "execution_count": 28,
   "id": "2db763e9",
   "metadata": {},
   "outputs": [
    {
     "name": "stdout",
     "output_type": "stream",
     "text": [
      "Epoch 1/20\n",
      "WARNING:tensorflow:From C:\\Users\\Dell\\AppData\\Roaming\\Python\\Python311\\site-packages\\keras\\src\\utils\\tf_utils.py:492: The name tf.ragged.RaggedTensorValue is deprecated. Please use tf.compat.v1.ragged.RaggedTensorValue instead.\n",
      "\n",
      "WARNING:tensorflow:From C:\\Users\\Dell\\AppData\\Roaming\\Python\\Python311\\site-packages\\keras\\src\\engine\\base_layer_utils.py:384: The name tf.executing_eagerly_outside_functions is deprecated. Please use tf.compat.v1.executing_eagerly_outside_functions instead.\n",
      "\n",
      "859/859 [==============================] - 16s 15ms/step - loss: 0.9912 - accuracy: 0.5021\n",
      "Epoch 2/20\n",
      "859/859 [==============================] - 13s 15ms/step - loss: 0.7512 - accuracy: 0.6797\n",
      "Epoch 3/20\n",
      "859/859 [==============================] - 13s 15ms/step - loss: 0.5902 - accuracy: 0.7695\n",
      "Epoch 4/20\n",
      "859/859 [==============================] - 13s 15ms/step - loss: 0.4875 - accuracy: 0.8190\n",
      "Epoch 5/20\n",
      "859/859 [==============================] - 13s 15ms/step - loss: 0.4072 - accuracy: 0.8542\n",
      "Epoch 6/20\n",
      "859/859 [==============================] - 13s 15ms/step - loss: 0.3455 - accuracy: 0.8798\n",
      "Epoch 7/20\n",
      "859/859 [==============================] - 13s 15ms/step - loss: 0.2986 - accuracy: 0.8988\n",
      "Epoch 8/20\n",
      "859/859 [==============================] - 13s 15ms/step - loss: 0.2634 - accuracy: 0.9116\n",
      "Epoch 9/20\n",
      "859/859 [==============================] - 13s 15ms/step - loss: 0.2345 - accuracy: 0.9218\n",
      "Epoch 10/20\n",
      "859/859 [==============================] - 13s 15ms/step - loss: 0.2099 - accuracy: 0.9325\n",
      "Epoch 11/20\n",
      "859/859 [==============================] - 13s 15ms/step - loss: 0.2014 - accuracy: 0.9327\n",
      "Epoch 12/20\n",
      "859/859 [==============================] - 13s 15ms/step - loss: 0.1792 - accuracy: 0.9427\n",
      "Epoch 13/20\n",
      "859/859 [==============================] - 13s 15ms/step - loss: 0.1713 - accuracy: 0.9455\n",
      "Epoch 14/20\n",
      "859/859 [==============================] - 13s 15ms/step - loss: 0.1592 - accuracy: 0.9484\n",
      "Epoch 15/20\n",
      "859/859 [==============================] - 13s 15ms/step - loss: 0.1570 - accuracy: 0.9496\n",
      "Epoch 16/20\n",
      "859/859 [==============================] - 13s 15ms/step - loss: 0.1460 - accuracy: 0.9534\n",
      "Epoch 17/20\n",
      "859/859 [==============================] - 14s 16ms/step - loss: 0.1349 - accuracy: 0.9575\n",
      "Epoch 18/20\n",
      "859/859 [==============================] - 14s 17ms/step - loss: 0.1341 - accuracy: 0.9579\n",
      "Epoch 19/20\n",
      "859/859 [==============================] - 13s 15ms/step - loss: 0.1316 - accuracy: 0.9596\n",
      "Epoch 20/20\n",
      "859/859 [==============================] - 13s 16ms/step - loss: 0.1235 - accuracy: 0.9612\n"
     ]
    }
   ],
   "source": [
    "history = model.fit(x_train, y_train, epochs=20)"
   ]
  },
  {
   "cell_type": "code",
   "execution_count": null,
   "id": "6e420f76",
   "metadata": {},
   "outputs": [],
   "source": [
    "#import matplotlib.pyplot as plt: This imports the Matplotlib library, which is a plotting library for Python.\n",
    "\n",
    "#plt.plot(history.history['accuracy']): This plots the training accuracy over epochs. history.history['accuracy'] accesses \n",
    "#the training accuracy values stored in the history object returned by the fit() method.\n",
    "\n",
    "#plt.show(): This displays the plot."
   ]
  },
  {
   "cell_type": "code",
   "execution_count": 29,
   "id": "6ce148fe",
   "metadata": {},
   "outputs": [
    {
     "data": {
      "image/png": "[encoded data removed]",
      "text/plain": [
       "<Figure size 640x480 with 1 Axes>"
      ]
     },
     "metadata": {},
     "output_type": "display_data"
    }
   ],
   "source": [
    "import matplotlib.pyplot as plt\n",
    "plt.plot(history.history['accuracy'])\n",
    "plt.show()"
   ]
  },
  {
   "cell_type": "code",
   "execution_count": null,
   "id": "56df6f3c",
   "metadata": {},
   "outputs": [],
   "source": [
    "#preprocesses it using the tokenizer and padding techniques that were used during training, and then makes predictions using\n",
    "#the trained model. Based on the predicted class index it prints out the sentiment label."
   ]
  },
  {
   "cell_type": "code",
   "execution_count": 57,
   "id": "71762c8d",
   "metadata": {},
   "outputs": [
    {
     "name": "stdout",
     "output_type": "stream",
     "text": [
      "1/1 [==============================] - 0s 39ms/step\n",
      "Neutral Sentiment\n"
     ]
    }
   ],
   "source": [
    "text = \"I`d have responded, if I were going\"\n",
    "\n",
    "new_text_seq = tokenizer.texts_to_sequences([text])\n",
    "new_text_padded = pad_sequences(new_text_seq, padding='post', maxlen=35)  # Use the max_len determined during training\n",
    "predictions = model.predict(new_text_padded)\n",
    "predicted_class_index = predictions.argmax(axis=-1)\n",
    "if predicted_class_index[0] == 0:\n",
    "    print(\"Postive Sentiment\");\n",
    "elif predicted_class_index[0] == 1:\n",
    "    print(\"Negative Sentiment\")\n",
    "else:\n",
    "    print(\"Neutral Sentiment\")"
   ]
  },
  {
   "cell_type": "markdown",
   "id": "317849e8",
   "metadata": {},
   "source": [
    "# Testing Dataset"
   ]
  },
  {
   "cell_type": "code",
   "execution_count": 32,
   "id": "92399f93",
   "metadata": {},
   "outputs": [],
   "source": [
    "data1=pd.read_csv(r\"C:\\Users\\Dell\\Downloads\\test (1).csv\",encoding=\"latin\")"
   ]
  },
  {
   "cell_type": "code",
   "execution_count": 33,
   "id": "463efbf7",
   "metadata": {},
   "outputs": [
    {
     "data": {
      "text/html": [
       "<div>\n",
       "<style scoped>\n",
       "    .dataframe tbody tr th:only-of-type {\n",
       "        vertical-align: middle;\n",
       "    }\n",
       "\n",
       "    .dataframe tbody tr th {\n",
       "        vertical-align: top;\n",
       "    }\n",
       "\n",
       "    .dataframe thead th {\n",
       "        text-align: right;\n",
       "    }\n",
       "</style>\n",
       "<table border=\"1\" class=\"dataframe\">\n",
       "  <thead>\n",
       "    <tr style=\"text-align: right;\">\n",
       "      <th></th>\n",
       "      <th>textID</th>\n",
       "      <th>text</th>\n",
       "      <th>sentiment</th>\n",
       "      <th>Time of Tweet</th>\n",
       "      <th>Age of User</th>\n",
       "      <th>Country</th>\n",
       "      <th>Population -2020</th>\n",
       "      <th>Land Area (Km²)</th>\n",
       "      <th>Density (P/Km²)</th>\n",
       "    </tr>\n",
       "  </thead>\n",
       "  <tbody>\n",
       "    <tr>\n",
       "      <th>0</th>\n",
       "      <td>f87dea47db</td>\n",
       "      <td>Last session of the day  http://twitpic.com/67ezh</td>\n",
       "      <td>neutral</td>\n",
       "      <td>morning</td>\n",
       "      <td>0-20</td>\n",
       "      <td>Afghanistan</td>\n",
       "      <td>38928346.0</td>\n",
       "      <td>652860.0</td>\n",
       "      <td>60.0</td>\n",
       "    </tr>\n",
       "    <tr>\n",
       "      <th>1</th>\n",
       "      <td>96d74cb729</td>\n",
       "      <td>Shanghai is also really exciting (precisely -...</td>\n",
       "      <td>positive</td>\n",
       "      <td>noon</td>\n",
       "      <td>21-30</td>\n",
       "      <td>Albania</td>\n",
       "      <td>2877797.0</td>\n",
       "      <td>27400.0</td>\n",
       "      <td>105.0</td>\n",
       "    </tr>\n",
       "    <tr>\n",
       "      <th>2</th>\n",
       "      <td>eee518ae67</td>\n",
       "      <td>Recession hit Veronique Branquinho, she has to...</td>\n",
       "      <td>negative</td>\n",
       "      <td>night</td>\n",
       "      <td>31-45</td>\n",
       "      <td>Algeria</td>\n",
       "      <td>43851044.0</td>\n",
       "      <td>2381740.0</td>\n",
       "      <td>18.0</td>\n",
       "    </tr>\n",
       "    <tr>\n",
       "      <th>3</th>\n",
       "      <td>01082688c6</td>\n",
       "      <td>happy bday!</td>\n",
       "      <td>positive</td>\n",
       "      <td>morning</td>\n",
       "      <td>46-60</td>\n",
       "      <td>Andorra</td>\n",
       "      <td>77265.0</td>\n",
       "      <td>470.0</td>\n",
       "      <td>164.0</td>\n",
       "    </tr>\n",
       "    <tr>\n",
       "      <th>4</th>\n",
       "      <td>33987a8ee5</td>\n",
       "      <td>http://twitpic.com/4w75p - I like it!!</td>\n",
       "      <td>positive</td>\n",
       "      <td>noon</td>\n",
       "      <td>60-70</td>\n",
       "      <td>Angola</td>\n",
       "      <td>32866272.0</td>\n",
       "      <td>1246700.0</td>\n",
       "      <td>26.0</td>\n",
       "    </tr>\n",
       "  </tbody>\n",
       "</table>\n",
       "</div>"
      ],
      "text/plain": [
       "       textID                                               text sentiment  \\\n",
       "0  f87dea47db  Last session of the day  http://twitpic.com/67ezh   neutral   \n",
       "1  96d74cb729   Shanghai is also really exciting (precisely -...  positive   \n",
       "2  eee518ae67  Recession hit Veronique Branquinho, she has to...  negative   \n",
       "3  01082688c6                                        happy bday!  positive   \n",
       "4  33987a8ee5             http://twitpic.com/4w75p - I like it!!  positive   \n",
       "\n",
       "  Time of Tweet Age of User      Country  Population -2020  Land Area (Km²)  \\\n",
       "0       morning        0-20  Afghanistan        38928346.0         652860.0   \n",
       "1          noon       21-30      Albania         2877797.0          27400.0   \n",
       "2         night       31-45      Algeria        43851044.0        2381740.0   \n",
       "3       morning       46-60      Andorra           77265.0            470.0   \n",
       "4          noon       60-70       Angola        32866272.0        1246700.0   \n",
       "\n",
       "   Density (P/Km²)  \n",
       "0             60.0  \n",
       "1            105.0  \n",
       "2             18.0  \n",
       "3            164.0  \n",
       "4             26.0  "
      ]
     },
     "execution_count": 33,
     "metadata": {},
     "output_type": "execute_result"
    }
   ],
   "source": [
    "data1.head()"
   ]
  },
  {
   "cell_type": "code",
   "execution_count": 34,
   "id": "99d375d6",
   "metadata": {},
   "outputs": [
    {
     "name": "stdout",
     "output_type": "stream",
     "text": [
      "<class 'pandas.core.frame.DataFrame'>\n",
      "RangeIndex: 4815 entries, 0 to 4814\n",
      "Data columns (total 9 columns):\n",
      " #   Column            Non-Null Count  Dtype  \n",
      "---  ------            --------------  -----  \n",
      " 0   textID            3534 non-null   object \n",
      " 1   text              3534 non-null   object \n",
      " 2   sentiment         3534 non-null   object \n",
      " 3   Time of Tweet     3534 non-null   object \n",
      " 4   Age of User       3534 non-null   object \n",
      " 5   Country           3534 non-null   object \n",
      " 6   Population -2020  3534 non-null   float64\n",
      " 7   Land Area (Km²)   3534 non-null   float64\n",
      " 8   Density (P/Km²)   3534 non-null   float64\n",
      "dtypes: float64(3), object(6)\n",
      "memory usage: 338.7+ KB\n"
     ]
    }
   ],
   "source": [
    "data1.info()"
   ]
  },
  {
   "cell_type": "code",
   "execution_count": 35,
   "id": "85454fcd",
   "metadata": {},
   "outputs": [
    {
     "data": {
      "text/plain": [
       "(4815, 9)"
      ]
     },
     "execution_count": 35,
     "metadata": {},
     "output_type": "execute_result"
    }
   ],
   "source": [
    "data1.shape"
   ]
  },
  {
   "cell_type": "code",
   "execution_count": 36,
   "id": "a6ebeb55",
   "metadata": {},
   "outputs": [],
   "source": [
    "data1=data1[['text','sentiment']]"
   ]
  },
  {
   "cell_type": "code",
   "execution_count": 37,
   "id": "b288a6da",
   "metadata": {},
   "outputs": [
    {
     "data": {
      "text/plain": [
       "array(['neutral', 'positive', 'negative', nan], dtype=object)"
      ]
     },
     "execution_count": 37,
     "metadata": {},
     "output_type": "execute_result"
    }
   ],
   "source": [
    "data1[\"sentiment\"].unique()"
   ]
  },
  {
   "cell_type": "code",
   "execution_count": 38,
   "id": "88a287fa",
   "metadata": {},
   "outputs": [],
   "source": [
    "def func(sentiment):\n",
    "    if sentiment =='positive':\n",
    "        return 0;\n",
    "    elif sentiment =='negative':\n",
    "        return 1;\n",
    "    else:\n",
    "        return 2;"
   ]
  },
  {
   "cell_type": "code",
   "execution_count": 39,
   "id": "b075ed35",
   "metadata": {},
   "outputs": [],
   "source": [
    "data1['sentiment'] = data1['sentiment'].apply(func)"
   ]
  },
  {
   "cell_type": "code",
   "execution_count": 40,
   "id": "41d551b3",
   "metadata": {},
   "outputs": [],
   "source": [
    "x_test = np.array(data1['text'].tolist())\n",
    "y_test = np.array(data1['sentiment'].tolist())"
   ]
  },
  {
   "cell_type": "code",
   "execution_count": 41,
   "id": "7982f1fa",
   "metadata": {},
   "outputs": [
    {
     "data": {
      "text/plain": [
       "array(['Last session of the day  http://twitpic.com/67ezh',\n",
       "       ' Shanghai is also really exciting (precisely -- skyscrapers galore). Good tweeps in China:  (SH)  (BJ).',\n",
       "       'Recession hit Veronique Branquinho, she has to quit her company, such a shame!',\n",
       "       ..., 'nan', 'nan', 'nan'], dtype='<U148')"
      ]
     },
     "execution_count": 41,
     "metadata": {},
     "output_type": "execute_result"
    }
   ],
   "source": [
    "x_test"
   ]
  },
  {
   "cell_type": "code",
   "execution_count": 42,
   "id": "bdfab220",
   "metadata": {},
   "outputs": [
    {
     "data": {
      "text/plain": [
       "array([2, 0, 1, ..., 2, 2, 2])"
      ]
     },
     "execution_count": 42,
     "metadata": {},
     "output_type": "execute_result"
    }
   ],
   "source": [
    "y_test"
   ]
  },
  {
   "cell_type": "code",
   "execution_count": 43,
   "id": "1b141e75",
   "metadata": {},
   "outputs": [],
   "source": [
    "y_test = to_categorical(y_test, 3)"
   ]
  },
  {
   "cell_type": "code",
   "execution_count": 44,
   "id": "576853ba",
   "metadata": {},
   "outputs": [],
   "source": [
    "tokenizer = Tokenizer(num_words=20000)"
   ]
  },
  {
   "cell_type": "code",
   "execution_count": 45,
   "id": "8d585c14",
   "metadata": {},
   "outputs": [],
   "source": [
    "tokenizer.fit_on_texts(x_test)"
   ]
  },
  {
   "cell_type": "code",
   "execution_count": 46,
   "id": "110eecac",
   "metadata": {},
   "outputs": [
    {
     "data": {
      "text/plain": [
       "7302"
      ]
     },
     "execution_count": 46,
     "metadata": {},
     "output_type": "execute_result"
    }
   ],
   "source": [
    "len(tokenizer.word_index)"
   ]
  },
  {
   "cell_type": "code",
   "execution_count": 47,
   "id": "8ffee7ea",
   "metadata": {},
   "outputs": [],
   "source": [
    "x_test = tokenizer.texts_to_sequences(x_test)"
   ]
  },
  {
   "cell_type": "code",
   "execution_count": 48,
   "id": "17e5a7f2",
   "metadata": {},
   "outputs": [],
   "source": [
    "x_test = pad_sequences(x_test, padding='post', maxlen=35)  "
   ]
  },
  {
   "cell_type": "code",
   "execution_count": 49,
   "id": "f6fb63b1",
   "metadata": {},
   "outputs": [],
   "source": [
    "model.compile(optimizer='adam', loss='categorical_crossentropy', metrics=['accuracy'])"
   ]
  },
  {
   "cell_type": "code",
   "execution_count": 50,
   "id": "edfb2b1f",
   "metadata": {},
   "outputs": [
    {
     "name": "stdout",
     "output_type": "stream",
     "text": [
      "Epoch 1/20\n",
      "151/151 [==============================] - 5s 16ms/step - loss: 0.9773 - accuracy: 0.5169\n",
      "Epoch 2/20\n",
      "151/151 [==============================] - 2s 16ms/step - loss: 0.8089 - accuracy: 0.5479\n",
      "Epoch 3/20\n",
      "151/151 [==============================] - 2s 15ms/step - loss: 0.7999 - accuracy: 0.5551\n",
      "Epoch 4/20\n",
      "151/151 [==============================] - 3s 17ms/step - loss: 0.7699 - accuracy: 0.5948\n",
      "Epoch 5/20\n",
      "151/151 [==============================] - 2s 15ms/step - loss: 0.7225 - accuracy: 0.6328\n",
      "Epoch 6/20\n",
      "151/151 [==============================] - 2s 15ms/step - loss: 0.6721 - accuracy: 0.6683\n",
      "Epoch 7/20\n",
      "151/151 [==============================] - 2s 15ms/step - loss: 0.5871 - accuracy: 0.7317\n",
      "Epoch 8/20\n",
      "151/151 [==============================] - 2s 15ms/step - loss: 0.5054 - accuracy: 0.7909\n",
      "Epoch 9/20\n",
      "151/151 [==============================] - 2s 15ms/step - loss: 0.4098 - accuracy: 0.8420\n",
      "Epoch 10/20\n",
      "151/151 [==============================] - 2s 15ms/step - loss: 0.3142 - accuracy: 0.8839\n",
      "Epoch 11/20\n",
      "151/151 [==============================] - 2s 15ms/step - loss: 0.2561 - accuracy: 0.9092\n",
      "Epoch 12/20\n",
      "151/151 [==============================] - 2s 15ms/step - loss: 0.2125 - accuracy: 0.9283\n",
      "Epoch 13/20\n",
      "151/151 [==============================] - 2s 15ms/step - loss: 0.1618 - accuracy: 0.9462\n",
      "Epoch 14/20\n",
      "151/151 [==============================] - 2s 14ms/step - loss: 0.1406 - accuracy: 0.9543\n",
      "Epoch 15/20\n",
      "151/151 [==============================] - 2s 15ms/step - loss: 0.1305 - accuracy: 0.9578\n",
      "Epoch 16/20\n",
      "151/151 [==============================] - 2s 15ms/step - loss: 0.0953 - accuracy: 0.9738\n",
      "Epoch 17/20\n",
      "151/151 [==============================] - 2s 15ms/step - loss: 0.0735 - accuracy: 0.9813\n",
      "Epoch 18/20\n",
      "151/151 [==============================] - 2s 14ms/step - loss: 0.0559 - accuracy: 0.9861\n",
      "Epoch 19/20\n",
      "151/151 [==============================] - 2s 15ms/step - loss: 0.0563 - accuracy: 0.9857\n",
      "Epoch 20/20\n",
      "151/151 [==============================] - 2s 15ms/step - loss: 0.0555 - accuracy: 0.9861\n"
     ]
    }
   ],
   "source": [
    "history = model.fit(x_test, y_test, epochs=20)"
   ]
  },
  {
   "cell_type": "code",
   "execution_count": 51,
   "id": "9299b854",
   "metadata": {},
   "outputs": [
    {
     "data": {
      "image/png": "[encoded data removed]",
      "text/plain": [
       "<Figure size 640x480 with 1 Axes>"
      ]
     },
     "metadata": {},
     "output_type": "display_data"
    }
   ],
   "source": [
    "import matplotlib.pyplot as plt\n",
    "plt.plot(history.history['accuracy'])\n",
    "plt.show()\n"
   ]
  },
  {
   "cell_type": "code",
   "execution_count": 52,
   "id": "35dbc65f",
   "metadata": {},
   "outputs": [
    {
     "name": "stdout",
     "output_type": "stream",
     "text": [
      "1/1 [==============================] - 0s 309ms/step\n",
      "Neutral Sentiment\n"
     ]
    }
   ],
   "source": [
    "text = \"Last session of the day http://twitpic.com/67ezh\"\n",
    "\n",
    "new_text_seq = tokenizer.texts_to_sequences([text])\n",
    "new_text_padded = pad_sequences(new_text_seq, padding='post', maxlen=35)  # Use the max_len determined during training\n",
    "predictions = model.predict(new_text_padded)\n",
    "predicted_class_index = predictions.argmax(axis=-1)\n",
    "if predicted_class_index[0] == 0:\n",
    "    print(\"Postive Sentiment\");\n",
    "elif predicted_class_index[0] == 1:\n",
    "    print(\"Negative Sentiment\")\n",
    "else:\n",
    "    print(\"Neutral Sentiment\")"
   ]
  },
  {
   "cell_type": "code",
   "execution_count": null,
   "id": "933a2fdc",
   "metadata": {},
   "outputs": [],
   "source": []
  }
 ],
 "metadata": {
  "kernelspec": {
   "display_name": "Python 3 (ipykernel)",
   "language": "python",
   "name": "python3"
  },
  "language_info": {
   "codemirror_mode": {
    "name": "ipython",
    "version": 3
   },
   "file_extension": ".py",
   "mimetype": "text/x-python",
   "name": "python",
   "nbconvert_exporter": "python",
   "pygments_lexer": "ipython3",
   "version": "3.11.4"
  }
 },
 "nbformat": 4,
 "nbformat_minor": 5
}
